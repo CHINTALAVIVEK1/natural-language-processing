{
  "nbformat": 4,
  "nbformat_minor": 0,
  "metadata": {
    "colab": {
      "provenance": [],
      "toc_visible": true
    },
    "kernelspec": {
      "name": "python3",
      "display_name": "Python 3"
    },
    "language_info": {
      "name": "python"
    }
  },
  "cells": [
    {
      "cell_type": "code",
      "metadata": {
        "colab": {
          "base_uri": "https://localhost:8080/"
        },
        "id": "43c97981",
        "outputId": "610b1042-1e8f-43e3-e7e9-77b56eec3c04"
      },
      "source": [
        "import nltk\n",
        "nltk.download('punkt_tab')"
      ],
      "execution_count": 1,
      "outputs": [
        {
          "output_type": "stream",
          "name": "stderr",
          "text": [
            "[nltk_data] Downloading package punkt_tab to /root/nltk_data...\n",
            "[nltk_data]   Unzipping tokenizers/punkt_tab.zip.\n"
          ]
        },
        {
          "output_type": "execute_result",
          "data": {
            "text/plain": [
              "True"
            ]
          },
          "metadata": {},
          "execution_count": 1
        }
      ]
    },
    {
      "cell_type": "code",
      "execution_count": 5,
      "metadata": {
        "colab": {
          "base_uri": "https://localhost:8080/"
        },
        "id": "jPKAXW2CbQBa",
        "outputId": "f97a9369-8707-433b-d3f2-6d68a78ed0a1"
      },
      "outputs": [
        {
          "output_type": "stream",
          "name": "stdout",
          "text": [
            "Enter a sentence: i am vivek\n",
            "Enter the value of N for N-grams: 2\n",
            "Next words: m </s> </s>\n"
          ]
        }
      ],
      "source": [
        "from nltk.util import ngrams\n",
        "from nltk.lm import Laplace\n",
        "from nltk.tokenize import word_tokenize\n",
        "from nltk.lm.preprocessing import padded_everygram_pipeline\n",
        "\n",
        "def ngram_smoothing(sentence, n):\n",
        "    tokens = word_tokenize(sentence.lower())\n",
        "    train_data, padded_sents = padded_everygram_pipeline(n, tokens)\n",
        "    model = Laplace(n)\n",
        "    model.fit(train_data, padded_sents)\n",
        "    return model\n",
        "\n",
        "sentence = input(\"Enter a sentence: \")\n",
        "n = int(input(\"Enter the value of N for N-grams: \"))\n",
        "\n",
        "model = ngram_smoothing(sentence, n)\n",
        "context_words = sentence.lower().split()\n",
        "context = tuple(context_words[max(0, len(context_words) - n + 1):])\n",
        "\n",
        "if len(context) < n - 1:\n",
        "    context = (None,) * (n - 1 - len(context)) + context\n",
        "next_words = model.generate(3, text_seed=context)\n",
        "print(\"Next words:\", ' '.join(next_words))"
      ]
    }
  ]
}