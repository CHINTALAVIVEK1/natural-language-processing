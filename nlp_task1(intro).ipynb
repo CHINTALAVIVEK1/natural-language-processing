{
  "nbformat": 4,
  "nbformat_minor": 0,
  "metadata": {
    "colab": {
      "provenance": [],
      "gpuType": "T4"
    },
    "kernelspec": {
      "name": "python3",
      "display_name": "Python 3"
    },
    "language_info": {
      "name": "python"
    },
    "accelerator": "GPU"
  },
  "cells": [
    {
      "cell_type": "code",
      "source": [
        "import re\n",
        "pattern1 = re.compile(r'abc')\n",
        "result1 = pattern1.match('abcdef')\n",
        "if result1:\n",
        "  print(\"match found:\",result1.group())\n",
        "pattern2 = re.compile(r'.')\n",
        "result2 = pattern2.search('Hello')\n",
        "if result2:\n",
        "  print(\"character found:\",result2.group())\n",
        "pattern3 = re.compile(r'[^aeiou]')\n",
        "result3 = pattern3.match('Hello')\n",
        "if result3:\n",
        "  print(\"vowel found:\",result3.group())\n",
        "pattern4 = re.compile(r'\\d{3}-\\d{2}-\\d{4}')\n",
        "result4 = pattern4.match('123-45-6789')\n",
        "if result4:\n",
        "  print(\"Social Security Number:\",result4.group())\n",
        "pattern5 = re.compile(r'\\.')\n",
        "result5 = pattern5.search('www.example.com')\n",
        "if result5:\n",
        "  print(\"Dot found:\",result5.group())\n",
        "pattern6 = re.compile(r'(\\d{2})/(\\d{2})/(\\d{4})')\n",
        "result6 = pattern6.match('31/07/2025')\n",
        "if result6:\n",
        "  print(\"Day:\",result6.group(1))\n",
        "  print(\"Month:\",result6.group(2))\n",
        "  print(\"Year:\",result6.group(3))\n",
        "pattern7 = re.compile(r'cat|dog')\n",
        "result7  = pattern7.search('I have a  dog cat and a dog')\n",
        "if result7:\n",
        "  print(\"Animal found:\",result7.group())"
      ],
      "metadata": {
        "colab": {
          "base_uri": "https://localhost:8080/"
        },
        "id": "XKomJs9QFguX",
        "outputId": "9a9f141c-a990-43dc-fe46-c455f97dd19c"
      },
      "execution_count": null,
      "outputs": [
        {
          "output_type": "stream",
          "name": "stdout",
          "text": [
            "match found: abc\n",
            "character found: H\n",
            "vowel found: H\n",
            "Social Security Number: 123-45-6789\n",
            "Dot found: .\n",
            "Day: 31\n",
            "Month: 07\n",
            "Year: 2025\n",
            "Animal found: dog\n"
          ]
        }
      ]
    }
  ]
}