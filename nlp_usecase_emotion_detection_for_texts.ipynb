{
  "nbformat": 4,
  "nbformat_minor": 0,
  "metadata": {
    "colab": {
      "provenance": [],
      "authorship_tag": "ABX9TyPrX93G6ymaxUbFfBXOExCk",
      "include_colab_link": true
    },
    "kernelspec": {
      "name": "python3",
      "display_name": "Python 3"
    },
    "language_info": {
      "name": "python"
    }
  },
  "cells": [
    {
      "cell_type": "markdown",
      "metadata": {
        "id": "view-in-github",
        "colab_type": "text"
      },
      "source": [
        "<a href=\"https://colab.research.google.com/github/CHINTALAVIVEK1/natural-language-processing/blob/main/nlp_usecase_emotion_detection_for_texts.ipynb\" target=\"_parent\"><img src=\"https://colab.research.google.com/assets/colab-badge.svg\" alt=\"Open In Colab\"/></a>"
      ]
    },
    {
      "cell_type": "code",
      "execution_count": 6,
      "metadata": {
        "colab": {
          "base_uri": "https://localhost:8080/"
        },
        "id": "R6aPx47ava7E",
        "outputId": "4f6c7e45-c563-41ee-e39a-22fdb95c5cff"
      },
      "outputs": [
        {
          "output_type": "stream",
          "name": "stdout",
          "text": [
            "                                                text  emotion\n",
            "0                            i didnt feel humiliated  sadness\n",
            "1  i can go from feeling so hopeless to so damned...  sadness\n",
            "2   im grabbing a minute to post i feel greedy wrong    anger\n",
            "3  i am ever feeling nostalgic about the fireplac...     love\n",
            "4                               i am feeling grouchy    anger\n",
            "Accuracy: 0.85\n",
            "\n",
            "Classification Report:\n",
            "               precision    recall  f1-score   support\n",
            "\n",
            "       anger       0.90      0.79      0.84       427\n",
            "        fear       0.85      0.73      0.78       397\n",
            "         joy       0.80      0.96      0.88      1021\n",
            "        love       0.89      0.60      0.71       296\n",
            "     sadness       0.88      0.93      0.91       946\n",
            "    surprise       0.88      0.44      0.59       113\n",
            "\n",
            "    accuracy                           0.85      3200\n",
            "   macro avg       0.87      0.74      0.78      3200\n",
            "weighted avg       0.85      0.85      0.84      3200\n",
            "\n",
            "\n",
            "Confusion Matrix:\n",
            " [[338  12  38   0  39   0]\n",
            " [ 15 288  52   2  33   7]\n",
            " [  3   2 984  18  14   0]\n",
            " [  5   4  93 177  17   0]\n",
            " [ 15  11  35   2 883   0]\n",
            " [  0  23  22   1  17  50]]\n",
            "Text: I am so happy today!  --->  Emotion: joy\n",
            "Text: I hate when things go wrong.  --->  Emotion: sadness\n",
            "Text: I'm feeling really sad right now.  --->  Emotion: sadness\n",
            "Text: That was an amazing experience!  --->  Emotion: joy\n",
            "Text: I'm scared of losing everything.  --->  Emotion: fear\n"
          ]
        }
      ],
      "source": [
        "# Emotion Detection using Logistic Regression\n",
        "\n",
        "import pandas as pd\n",
        "import numpy as np\n",
        "import re\n",
        "import string\n",
        "from sklearn.model_selection import train_test_split\n",
        "from sklearn.feature_extraction.text import TfidfVectorizer\n",
        "from sklearn.linear_model import LogisticRegression\n",
        "from sklearn.metrics import accuracy_score, classification_report, confusion_matrix\n",
        "\n",
        "# 1️⃣ Load Dataset\n",
        "# You can download an emotion dataset from Kaggle: \"Emotion Dataset for NLP\"\n",
        "# Assuming the file is in a format like: text;emotion\n",
        "df = pd.read_csv(\"/content/train.txt.zip\", sep=';', names=['text', 'emotion'])\n",
        "\n",
        "print(df.head())\n",
        "\n",
        "# 2️⃣ Text Cleaning\n",
        "def clean_text(text):\n",
        "    # Ensure the input is a string before applying lower()\n",
        "    text = str(text).lower()\n",
        "    text = re.sub(r'http\\S+|www\\S+|https\\S+', '', text)\n",
        "    text = re.sub(r'\\@w+|\\#','', text)\n",
        "    text = re.sub(r'[^A-Za-z\\s]', '', text)\n",
        "    return text.strip()\n",
        "\n",
        "df['clean_text'] = df['text'].apply(clean_text)\n",
        "\n",
        "# 3️⃣ Split Data\n",
        "X = df['clean_text']\n",
        "y = df['emotion']\n",
        "\n",
        "X_train, X_test, y_train, y_test = train_test_split(X, y, test_size=0.2, random_state=42)\n",
        "\n",
        "# 4️⃣ TF-IDF Vectorization\n",
        "vectorizer = TfidfVectorizer(max_features=5000)\n",
        "X_train_tfidf = vectorizer.fit_transform(X_train)\n",
        "X_test_tfidf = vectorizer.transform(X_test)\n",
        "\n",
        "# 5️⃣ Train Model\n",
        "model = LogisticRegression(max_iter=200)\n",
        "model.fit(X_train_tfidf, y_train)\n",
        "\n",
        "# 6️⃣ Evaluate\n",
        "y_pred = model.predict(X_test_tfidf)\n",
        "print(\"Accuracy:\", accuracy_score(y_test, y_pred))\n",
        "print(\"\\nClassification Report:\\n\", classification_report(y_test, y_pred))\n",
        "print(\"\\nConfusion Matrix:\\n\", confusion_matrix(y_test, y_pred))\n",
        "\n",
        "# 7️⃣ Test with Custom Sentences\n",
        "test_sentences = [\n",
        "    \"I am so happy today!\",\n",
        "    \"I hate when things go wrong.\",\n",
        "    \"I'm feeling really sad right now.\",\n",
        "    \"That was an amazing experience!\",\n",
        "    \"I'm scared of losing everything.\"\n",
        "]\n",
        "\n",
        "test_vec = vectorizer.transform(test_sentences)\n",
        "preds = model.predict(test_vec)\n",
        "\n",
        "for text, emotion in zip(test_sentences, preds):\n",
        "    print(f\"Text: {text}  --->  Emotion: {emotion}\")"
      ]
    }
  ]
}