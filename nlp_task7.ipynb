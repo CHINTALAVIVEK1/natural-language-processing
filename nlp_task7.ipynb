{
  "nbformat": 4,
  "nbformat_minor": 0,
  "metadata": {
    "colab": {
      "provenance": []
    },
    "kernelspec": {
      "name": "python3",
      "display_name": "Python 3"
    },
    "language_info": {
      "name": "python"
    }
  },
  "cells": [
    {
      "cell_type": "code",
      "metadata": {
        "colab": {
          "base_uri": "https://localhost:8080/"
        },
        "id": "93a6a7db",
        "outputId": "1b2fb17d-50ce-4cb9-fb81-ea89fc301872"
      },
      "source": [
        "import nltk\n",
        "nltk.download('punkt_tab')"
      ],
      "execution_count": 4,
      "outputs": [
        {
          "output_type": "stream",
          "name": "stderr",
          "text": [
            "[nltk_data] Downloading package punkt_tab to /root/nltk_data...\n",
            "[nltk_data]   Unzipping tokenizers/punkt_tab.zip.\n"
          ]
        },
        {
          "output_type": "execute_result",
          "data": {
            "text/plain": [
              "True"
            ]
          },
          "metadata": {},
          "execution_count": 4
        }
      ]
    },
    {
      "cell_type": "code",
      "metadata": {
        "colab": {
          "base_uri": "https://localhost:8080/"
        },
        "id": "eb450b59",
        "outputId": "0c720c4f-e415-484f-9804-cfd0ddb66408"
      },
      "source": [
        "import nltk\n",
        "nltk.download('treebank')"
      ],
      "execution_count": 2,
      "outputs": [
        {
          "output_type": "stream",
          "name": "stderr",
          "text": [
            "[nltk_data] Downloading package treebank to /root/nltk_data...\n",
            "[nltk_data]   Unzipping corpora/treebank.zip.\n"
          ]
        },
        {
          "output_type": "execute_result",
          "data": {
            "text/plain": [
              "True"
            ]
          },
          "metadata": {},
          "execution_count": 2
        }
      ]
    },
    {
      "cell_type": "code",
      "execution_count": 5,
      "metadata": {
        "colab": {
          "base_uri": "https://localhost:8080/"
        },
        "id": "0Z8Ff3zaVk-P",
        "outputId": "04067282-cd55-4431-bcd7-3dee4d3fe93e"
      },
      "outputs": [
        {
          "output_type": "stream",
          "name": "stdout",
          "text": [
            "[('This', 'DT'), ('is', 'VBZ'), ('an', 'DT'), ('example', 'NN'), ('sentence', 'NNS'), ('for', 'IN'), ('HMM', 'DT'), ('tagging', 'NN'), ('.', '.')]\n"
          ]
        }
      ],
      "source": [
        "import nltk\n",
        "from nltk.tag import HiddenMarkovModelTagger\n",
        "from nltk.corpus import treebank\n",
        "corpus = treebank.tagged_sents()\n",
        "train_data = corpus[:3000]\n",
        "test_data = corpus[3000:]\n",
        "hmm_tagger = HiddenMarkovModelTagger.train(train_data)\n",
        "sentence = \"This is an example sentence for HMM tagging.\"\n",
        "tokens = nltk.word_tokenize(sentence)\n",
        "tagged_sentence = hmm_tagger.tag(tokens)\n",
        "print(tagged_sentence)"
      ]
    }
  ]
}